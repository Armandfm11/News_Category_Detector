{
 "cells": [
  {
   "cell_type": "code",
   "execution_count": 1,
   "metadata": {},
   "outputs": [],
   "source": [
    "# Librarii\n",
    "\n",
    "# Citire dataset\n",
    "import pandas as pd\n",
    "# Verificare path\n",
    "import os\n",
    "\n",
    "# import numpy as np\n",
    "import tensorflow as tf\n",
    "\n",
    "# Vectorizare text\n",
    "from sklearn.feature_extraction.text import TfidfVectorizer\n",
    "\n",
    "from sklearn.preprocessing import LabelEncoder\n",
    "from sklearn.model_selection import train_test_split\n",
    "\n",
    "from tensorflow.keras.utils import to_categorical\n",
    "\n",
    "from tensorflow.keras.models import Sequential\n",
    "from tensorflow.keras.layers import Dense, Dropout\n",
    "from tensorflow.keras.regularizers import l2\n",
    "\n",
    "from tensorflow.keras.callbacks import EarlyStopping, ReduceLROnPlateau\n",
    "\n",
    "import matplotlib.pyplot as plt\n",
    "import seaborn as sns\n"
   ]
  },
  {
   "cell_type": "code",
   "execution_count": 2,
   "metadata": {},
   "outputs": [],
   "source": [
    "#  Incarcam setul de date\n",
    "file_path = 'News_Category_Dataset_v3.json'\n",
    "if not os.path.exists(file_path):\n",
    "    print(f\"Eroare: Fisierul {file_path} nu a fost gasit.\")\n",
    "\n",
    "# Citim setul de date\n",
    "data = pd.read_json(file_path, lines=True)"
   ]
  },
  {
   "cell_type": "code",
   "execution_count": null,
   "metadata": {},
   "outputs": [],
   "source": [
    "# Debug incarcare dataset\n",
    "print(data.head(3), \"\\n\\n\")\n"
   ]
  },
  {
   "cell_type": "code",
   "execution_count": 4,
   "metadata": {},
   "outputs": [],
   "source": [
    "# Prelucrare dataset\n",
    "\n",
    "# Textul stirii este compus din titlu si descrierea sumara\n",
    "data['text'] = data['headline'] + \" \" + data['short_description']\n",
    "\n",
    "# Modelul se va folosi doar de textul final si categoria stirii respective\n",
    "data = data[['text', 'category']]\n",
    "\n",
    "# Valorile nule sunt eliminate\n",
    "data = data.dropna()\n"
   ]
  },
  {
   "cell_type": "code",
   "execution_count": null,
   "metadata": {},
   "outputs": [],
   "source": [
    "# Debug dataset prelucrat\n",
    "print(data.head(6), \"\\n\\n\")\n",
    "\n",
    "# Reprezentare grafica a datasetului\n",
    "sns.set_theme(style=\"darkgrid\", rc={'figure.figsize':(11.7,8.27)})\n",
    "ax = sns.countplot(y=\"category\", data=data)"
   ]
  },
  {
   "cell_type": "code",
   "execution_count": 6,
   "metadata": {},
   "outputs": [],
   "source": [
    "# Vectorizare text\n",
    "vectorizer = TfidfVectorizer(stop_words='english', max_features=10000)  # Limităm la 10.000 de termeni\n",
    "X = vectorizer.fit_transform(data['text'])\n",
    "\n",
    "# Conversie categorii în valori numerice\n",
    "label_encoder = LabelEncoder()\n",
    "y = label_encoder.fit_transform(data['category'])\n",
    "\n",
    "# Impartire dataset in set de antrenare si set de testare\n",
    "X_train, X_test, y_train, y_test = train_test_split(X, y, test_size=0.2, random_state=42)\n",
    "\n",
    "# Conversie etichete - one-hot encoding\n",
    "y_train_categorical = to_categorical(y_train)\n",
    "y_test_categorical = to_categorical(y_test)"
   ]
  },
  {
   "cell_type": "code",
   "execution_count": null,
   "metadata": {},
   "outputs": [],
   "source": [
    "# Creare model - 3 straturi, regularizare L2\n",
    "model = Sequential([\n",
    "    Dense(128, activation='relu', kernel_regularizer=l2(0.01),  input_shape=(X_train.shape[1],)), \n",
    "    Dense(64, activation='relu'), \n",
    "    Dense(y_train_categorical.shape[1], activation='softmax')\n",
    "])\n",
    "\n",
    "# Compilare model\n",
    "model.compile(optimizer='adam', loss='categorical_crossentropy', metrics=['accuracy', 'precision', 'recall', 'auc'])\n",
    "\n",
    "# Sumar model\n",
    "model.summary()"
   ]
  },
  {
   "cell_type": "code",
   "execution_count": 8,
   "metadata": {},
   "outputs": [],
   "source": [
    "# Callback-uri in caz de stagnare, pentru a preveni overfitting-ul\n",
    "early_stopping = EarlyStopping(monitor='val_loss', patience=5, restore_best_weights=True)\n",
    "reduce_lr = ReduceLROnPlateau(monitor='val_loss', factor=0.5, patience=3)\n"
   ]
  },
  {
   "cell_type": "code",
   "execution_count": null,
   "metadata": {},
   "outputs": [],
   "source": []
  },
  {
   "cell_type": "code",
   "execution_count": 9,
   "metadata": {},
   "outputs": [],
   "source": [
    "# Incarcare model preantrenat\n",
    "\n",
    "model = tf.keras.models.load_model('Proiect_TIA.keras')"
   ]
  },
  {
   "cell_type": "code",
   "execution_count": null,
   "metadata": {},
   "outputs": [],
   "source": []
  },
  {
   "cell_type": "code",
   "execution_count": null,
   "metadata": {},
   "outputs": [],
   "source": [
    "'''\n",
    "# Antrenare\n",
    "\n",
    "history = model.fit(\n",
    "    X_train,\n",
    "    y_train_categorical,\n",
    "    epochs=100,\n",
    "    batch_size=80,\n",
    "    validation_split=0.2,\n",
    "    callbacks=[early_stopping, reduce_lr]\n",
    ")\n",
    "'''"
   ]
  },
  {
   "cell_type": "code",
   "execution_count": null,
   "metadata": {},
   "outputs": [],
   "source": [
    "# Evaluare pe setul de testare\n",
    "loss, accuracy, precision, recall, auc = model.evaluate(X_test, y_test_categorical)\n",
    "print(f\"Acuratete pe setul de testare: {accuracy:.2f}\")"
   ]
  },
  {
   "cell_type": "code",
   "execution_count": 12,
   "metadata": {},
   "outputs": [],
   "source": [
    "# score = model.evaluate(X_test, y_test_categorical, verbose=0)\n",
    "# print(\"Test loss:\", score[0])\n",
    "# print(\"Test accuracy:\", score[1])"
   ]
  },
  {
   "cell_type": "code",
   "execution_count": null,
   "metadata": {},
   "outputs": [],
   "source": [
    "# Testare model antrenat pe texte predefinite\n",
    "text_test = [\n",
    "    \"The stock market is down due to the pandemic.\",\n",
    "    \"A building caught on fire in the city center.\",\n",
    "    \"The government unveils a new economic policy.\",\n",
    "    \"A famous actor wins an award at the international film festival.\"\n",
    "]\n",
    "\n",
    "# Vectorizare texte\n",
    "text_vectorized = vectorizer.transform(text_test)\n",
    "\n",
    "# Prezicem categoriile\n",
    "prediction = model.predict(text_vectorized)\n",
    "\n",
    "# Convert\n",
    "for text, category in zip(text_test, prediction):\n",
    "    predict_category = label_encoder.inverse_transform([category.argmax()])[0]\n",
    "    print(f\"Text: {text}\")\n",
    "    print(f\"Predictie categorie: {predict_category}\\n\")\n"
   ]
  },
  {
   "cell_type": "code",
   "execution_count": 32,
   "metadata": {},
   "outputs": [
    {
     "name": "stdout",
     "output_type": "stream",
     "text": [
      "\u001b[1m1/1\u001b[0m \u001b[32m━━━━━━━━━━━━━━━━━━━━\u001b[0m\u001b[37m\u001b[0m \u001b[1m0s\u001b[0m 101ms/step\n",
      "Text: Hot news all students are passing the examn \n",
      "Predictie categorie: POLITICS\n",
      "\n"
     ]
    }
   ],
   "source": [
    "\n",
    "# Testare pe un input de la tastatura\n",
    "\n",
    "text_test = str(input())\n",
    "text_vectorized = vectorizer.transform([text_test])\n",
    "prediction = model.predict(text_vectorized)\n",
    "\n",
    "for text, category in zip([text_test], prediction):\n",
    "    predict_category = label_encoder.inverse_transform([category.argmax()])[0]\n",
    "    print(f\"Text: {text}\")\n",
    "    print(f\"Predictie categorie: {predict_category}\\n\")\n"
   ]
  },
  {
   "cell_type": "code",
   "execution_count": null,
   "metadata": {},
   "outputs": [],
   "source": [
    "'''\n",
    "# Grafice model\n",
    "plt.figure(figsize=(12, 8))\n",
    "\n",
    "plt.subplot(2, 2, 1)\n",
    "plt.plot(history.history['accuracy'], label='Accuracy')\n",
    "plt.plot(history.history['val_accuracy'], label='Accuracy pe setul de validare')\n",
    "plt.xlabel('Epoch')\n",
    "plt.ylabel('Accuracy')\n",
    "plt.legend()\n",
    "\n",
    "plt.subplot(2, 2, 2)\n",
    "plt.plot(history.history['loss'], label='Loss')\n",
    "plt.plot(history.history['val_loss'], label='Loss pe setul de validare')\n",
    "plt.xlabel('Epoch')\n",
    "plt.ylabel('Loss')\n",
    "plt.legend()\n",
    "\n",
    "plt.subplot(2, 2, 3)\n",
    "plt.plot(history.history['precision'], label='Precision')\n",
    "plt.plot(history.history['val_precision'], label='Precizia pe setul de validare')\n",
    "plt.xlabel('Epoch')\n",
    "plt.ylabel('Precizie')\n",
    "plt.legend()\n",
    "\n",
    "plt.subplot(2, 2, 4)\n",
    "plt.plot(history.history['auc'], label='AUC')\n",
    "plt.plot(history.history['val_auc'], label='AUC pe setul de validare')\n",
    "plt.xlabel('Epoch')\n",
    "plt.ylabel('AUC (Area Under Curve)')\n",
    "plt.legend()\n",
    "\n",
    "plt.tight_layout()\n",
    "plt.show()\n",
    "'''"
   ]
  },
  {
   "cell_type": "code",
   "execution_count": 16,
   "metadata": {},
   "outputs": [],
   "source": [
    "## Salvare model\n",
    "\n",
    "# model.save('Proiect_TIA.keras')"
   ]
  }
 ],
 "metadata": {
  "kernelspec": {
   "display_name": "Python 3",
   "language": "python",
   "name": "python3"
  },
  "language_info": {
   "codemirror_mode": {
    "name": "ipython",
    "version": 3
   },
   "file_extension": ".py",
   "mimetype": "text/x-python",
   "name": "python",
   "nbconvert_exporter": "python",
   "pygments_lexer": "ipython3",
   "version": "3.11.2"
  }
 },
 "nbformat": 4,
 "nbformat_minor": 2
}
